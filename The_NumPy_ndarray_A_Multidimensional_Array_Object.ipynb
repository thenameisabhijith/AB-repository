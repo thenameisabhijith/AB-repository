{
 "cells": [
  {
   "cell_type": "code",
   "execution_count": 1,
   "id": "051005b0",
   "metadata": {},
   "outputs": [],
   "source": [
    "import numpy as np\n",
    "my_arr = np.arange(1000000)\n",
    "mylist = list(range(1000000))"
   ]
  },
  {
   "cell_type": "code",
   "execution_count": 19,
   "id": "7bd3a55d",
   "metadata": {},
   "outputs": [
    {
     "name": "stdout",
     "output_type": "stream",
     "text": [
      "CPU times: user 35.1 ms, sys: 3.64 ms, total: 38.7 ms\n",
      "Wall time: 32.2 ms\n"
     ]
    }
   ],
   "source": [
    "%time for _ in range(10): my_arr = my_arr*2"
   ]
  },
  {
   "cell_type": "code",
   "execution_count": 5,
   "id": "b0fbd8a4",
   "metadata": {},
   "outputs": [
    {
     "name": "stdout",
     "output_type": "stream",
     "text": [
      "CPU times: user 589 ms, sys: 172 ms, total: 761 ms\n",
      "Wall time: 760 ms\n"
     ]
    }
   ],
   "source": [
    "%time for _ in range(10): mylist2 = [x*2 for x in mylist]"
   ]
  },
  {
   "cell_type": "code",
   "execution_count": 20,
   "id": "43195e14",
   "metadata": {},
   "outputs": [],
   "source": [
    "data1 = [6,7.5,8,0,1]\n",
    "arr1 = np.array(data1)"
   ]
  },
  {
   "cell_type": "code",
   "execution_count": 21,
   "id": "83606d87",
   "metadata": {},
   "outputs": [
    {
     "data": {
      "text/plain": [
       "array([6. , 7.5, 8. , 0. , 1. ])"
      ]
     },
     "execution_count": 21,
     "metadata": {},
     "output_type": "execute_result"
    }
   ],
   "source": [
    "arr1"
   ]
  },
  {
   "cell_type": "code",
   "execution_count": 22,
   "id": "98044c63",
   "metadata": {},
   "outputs": [],
   "source": [
    "data2 = [[1,2,3,4],[5,6,7,8]]\n",
    "arr2 = np.array(data2)"
   ]
  },
  {
   "cell_type": "code",
   "execution_count": 23,
   "id": "0969536b",
   "metadata": {},
   "outputs": [
    {
     "data": {
      "text/plain": [
       "array([[1, 2, 3, 4],\n",
       "       [5, 6, 7, 8]])"
      ]
     },
     "execution_count": 23,
     "metadata": {},
     "output_type": "execute_result"
    }
   ],
   "source": [
    "arr2"
   ]
  },
  {
   "cell_type": "code",
   "execution_count": 24,
   "id": "56adb0ae",
   "metadata": {},
   "outputs": [
    {
     "data": {
      "text/plain": [
       "2"
      ]
     },
     "execution_count": 24,
     "metadata": {},
     "output_type": "execute_result"
    }
   ],
   "source": [
    "arr2.ndim"
   ]
  },
  {
   "cell_type": "code",
   "execution_count": 25,
   "id": "89aa8c99",
   "metadata": {},
   "outputs": [
    {
     "data": {
      "text/plain": [
       "(2, 4)"
      ]
     },
     "execution_count": 25,
     "metadata": {},
     "output_type": "execute_result"
    }
   ],
   "source": [
    "arr2.shape"
   ]
  },
  {
   "cell_type": "code",
   "execution_count": 26,
   "id": "89e615f3",
   "metadata": {},
   "outputs": [
    {
     "data": {
      "text/plain": [
       "dtype('int64')"
      ]
     },
     "execution_count": 26,
     "metadata": {},
     "output_type": "execute_result"
    }
   ],
   "source": [
    "arr2.dtype"
   ]
  },
  {
   "cell_type": "code",
   "execution_count": 27,
   "id": "3610c9c5",
   "metadata": {},
   "outputs": [
    {
     "name": "stdout",
     "output_type": "stream",
     "text": [
      "[0. 0. 0. 0. 0. 0. 0. 0. 0. 0.]\n",
      "[[0. 0. 0. 0.]\n",
      " [0. 0. 0. 0.]]\n"
     ]
    }
   ],
   "source": [
    "print(np.zeros(10))\n",
    "print(np.zeros((2,4)))"
   ]
  },
  {
   "cell_type": "code",
   "execution_count": 32,
   "id": "49f49aec",
   "metadata": {},
   "outputs": [
    {
     "data": {
      "text/plain": [
       "array([[[ 4.66562981e-310,  0.00000000e+000],\n",
       "        [ 0.00000000e+000,  0.00000000e+000],\n",
       "        [ 0.00000000e+000,  0.00000000e+000]],\n",
       "\n",
       "       [[ 0.00000000e+000,  0.00000000e+000],\n",
       "        [ 0.00000000e+000,  0.00000000e+000],\n",
       "        [ 0.00000000e+000,  0.00000000e+000]],\n",
       "\n",
       "       [[ 0.00000000e+000,  0.00000000e+000],\n",
       "        [ 0.00000000e+000,  0.00000000e+000],\n",
       "        [-5.60466303e+139,  6.93299937e-310]]])"
      ]
     },
     "execution_count": 32,
     "metadata": {},
     "output_type": "execute_result"
    }
   ],
   "source": [
    "np.empty((3,3,2))"
   ]
  },
  {
   "cell_type": "code",
   "execution_count": 34,
   "id": "8d7e7e0d",
   "metadata": {},
   "outputs": [],
   "source": [
    "np.arange??"
   ]
  },
  {
   "cell_type": "code",
   "execution_count": 36,
   "id": "d87781d1",
   "metadata": {},
   "outputs": [
    {
     "data": {
      "text/plain": [
       "array([1, 3, 5])"
      ]
     },
     "execution_count": 36,
     "metadata": {},
     "output_type": "execute_result"
    }
   ],
   "source": [
    "np.arange(1,7,2,dtype = 'int')"
   ]
  },
  {
   "cell_type": "code",
   "execution_count": 3,
   "id": "bf20ec52",
   "metadata": {},
   "outputs": [
    {
     "data": {
      "text/plain": [
       "array([[1., 0., 0., 0.],\n",
       "       [0., 1., 0., 0.],\n",
       "       [0., 0., 1., 0.],\n",
       "       [0., 0., 0., 1.]])"
      ]
     },
     "execution_count": 3,
     "metadata": {},
     "output_type": "execute_result"
    }
   ],
   "source": [
    "np.eye(4) # Gives an Identity Matrix"
   ]
  },
  {
   "cell_type": "code",
   "execution_count": 8,
   "id": "77aae1fe",
   "metadata": {},
   "outputs": [],
   "source": [
    "x = np.full((3,2),5) # Takes shape and fill value"
   ]
  },
  {
   "cell_type": "code",
   "execution_count": 17,
   "id": "1f1656cc",
   "metadata": {},
   "outputs": [
    {
     "data": {
      "text/plain": [
       "array([[1, 1],\n",
       "       [1, 1],\n",
       "       [1, 1]])"
      ]
     },
     "execution_count": 17,
     "metadata": {},
     "output_type": "execute_result"
    }
   ],
   "source": [
    "np.full_like(x,1)\n",
    "\n",
    "#Takes an array and fills with a - \n",
    "#value with same shape and same datatype"
   ]
  },
  {
   "cell_type": "code",
   "execution_count": 21,
   "id": "7a8a1eb0",
   "metadata": {},
   "outputs": [
    {
     "data": {
      "text/plain": [
       "array([[94220398504220,              0,              0],\n",
       "       [             0,              0,              0]])"
      ]
     },
     "execution_count": 21,
     "metadata": {},
     "output_type": "execute_result"
    }
   ],
   "source": [
    "a = [[1,2,3],[4,5,6]]\n",
    "np.empty_like(a) # Takes an Array and gives a Garbage filled \n",
    "# - array of same shape and Datatype"
   ]
  },
  {
   "cell_type": "code",
   "execution_count": 27,
   "id": "3e79e2aa",
   "metadata": {},
   "outputs": [
    {
     "name": "stdout",
     "output_type": "stream",
     "text": [
      "[1. 2. 3.]\n"
     ]
    },
    {
     "data": {
      "text/plain": [
       "array(['1.2', '2.3', '3.6'], dtype='<U3')"
      ]
     },
     "execution_count": 27,
     "metadata": {},
     "output_type": "execute_result"
    }
   ],
   "source": [
    "arr1 = np.array([1,2,3], dtype = np.float64)\n",
    "print(arr1)\n",
    "arr2 = np.array([1.2,2.3,3.6], dtype = np.int64)\n",
    "arr2"
   ]
  },
  {
   "cell_type": "code",
   "execution_count": 36,
   "id": "9353ade9",
   "metadata": {},
   "outputs": [
    {
     "name": "stdout",
     "output_type": "stream",
     "text": [
      "[b'1.0' b'2.0' b'3.0']\n"
     ]
    },
    {
     "data": {
      "text/plain": [
       "dtype('S32')"
      ]
     },
     "execution_count": 36,
     "metadata": {},
     "output_type": "execute_result"
    }
   ],
   "source": [
    "arr3 = arr1.astype(np.string_)\n",
    "print(arr3)\n",
    "# array2 = array1.astype(np.'required data_type')\n",
    "arr3.dtype"
   ]
  },
  {
   "cell_type": "code",
   "execution_count": 37,
   "id": "81bfdfa4",
   "metadata": {},
   "outputs": [
    {
     "data": {
      "text/plain": [
       "array([0.22 , 0.27 , 0.357, 0.38 , 0.44 , 0.5  ])"
      ]
     },
     "execution_count": 37,
     "metadata": {},
     "output_type": "execute_result"
    }
   ],
   "source": [
    "calibers = np.array([.22, .270, .357, .380, .44, .50], dtype=np.float64)\n",
    "calibers"
   ]
  },
  {
   "cell_type": "code",
   "execution_count": 43,
   "id": "f01e26f5",
   "metadata": {},
   "outputs": [
    {
     "name": "stdout",
     "output_type": "stream",
     "text": [
      "[[1 2 3]\n",
      " [4 5 6]]\n",
      "[[ 1  4  9]\n",
      " [16 25 36]]\n",
      "[[ 2  4  6]\n",
      " [ 8 10 12]]\n"
     ]
    }
   ],
   "source": [
    "arr = np.array([[1,2,3],[4,5,6]])\n",
    "print(arr)\n",
    "print(arr*arr) # '*' is elementwise operator\n",
    "print(arr+arr)"
   ]
  },
  {
   "cell_type": "code",
   "execution_count": 44,
   "id": "0fc81b89",
   "metadata": {},
   "outputs": [
    {
     "data": {
      "text/plain": [
       "array([[0, 0, 0],\n",
       "       [0, 0, 0]])"
      ]
     },
     "execution_count": 44,
     "metadata": {},
     "output_type": "execute_result"
    }
   ],
   "source": [
    "arr-arr"
   ]
  },
  {
   "cell_type": "code",
   "execution_count": 46,
   "id": "23b79667",
   "metadata": {},
   "outputs": [
    {
     "data": {
      "text/plain": [
       "array([[1.        , 0.5       , 0.33333333],\n",
       "       [0.25      , 0.2       , 0.16666667]])"
      ]
     },
     "execution_count": 46,
     "metadata": {},
     "output_type": "execute_result"
    }
   ],
   "source": [
    "1/arr"
   ]
  },
  {
   "cell_type": "code",
   "execution_count": 48,
   "id": "ed7fa76d",
   "metadata": {},
   "outputs": [
    {
     "data": {
      "text/plain": [
       "array([[ 1,  4,  9],\n",
       "       [16, 25, 36]])"
      ]
     },
     "execution_count": 48,
     "metadata": {},
     "output_type": "execute_result"
    }
   ],
   "source": [
    "arr ** 2"
   ]
  },
  {
   "cell_type": "code",
   "execution_count": 49,
   "id": "cbe0618a",
   "metadata": {},
   "outputs": [
    {
     "data": {
      "text/plain": [
       "array([[False, False,  True],\n",
       "       [ True,  True, False]])"
      ]
     },
     "execution_count": 49,
     "metadata": {},
     "output_type": "execute_result"
    }
   ],
   "source": [
    "arr4 = np.array([[1,3,1],[0,3,8]])\n",
    "arr > arr4"
   ]
  },
  {
   "cell_type": "code",
   "execution_count": 53,
   "id": "8cef2af9",
   "metadata": {},
   "outputs": [
    {
     "name": "stdout",
     "output_type": "stream",
     "text": [
      "[0 1 2 3 4 5 6 7 8 9]\n",
      "5\n",
      "[5 6 7]\n"
     ]
    },
    {
     "data": {
      "text/plain": [
       "array([2, 3, 4, 5, 6])"
      ]
     },
     "execution_count": 53,
     "metadata": {},
     "output_type": "execute_result"
    }
   ],
   "source": [
    "# Basic Indexing & Slicing\n",
    "array1 = np.arange(10)\n",
    "print(array1)\n",
    "print(array1[5])\n",
    "print(array1[5:8])\n",
    "arr_slice = array1[2:7]\n",
    "arr_slice"
   ]
  },
  {
   "cell_type": "code",
   "execution_count": 56,
   "id": "91b99784",
   "metadata": {},
   "outputs": [
    {
     "name": "stdout",
     "output_type": "stream",
     "text": [
      "[    0     1     2 12345     4     5     6     7     8     9]\n",
      "[12345     4]\n",
      "[    2 12345     4     5     6]\n",
      "[    0     1     2 12345     4     5     6     7     8     9]\n"
     ]
    }
   ],
   "source": [
    "arr_slice[1] = 12345\n",
    "print(array1)\n",
    "# change made by assigning through index in\n",
    "# - sliced array will result in base array\n",
    "arr_slice1 = arr_slice[1:3]\n",
    "print(arr_slice1)\n",
    "arr_slice1 = arr_slice1*2\n",
    "print(arr_slice)\n",
    "print(array1)"
   ]
  },
  {
   "cell_type": "code",
   "execution_count": 58,
   "id": "d0fabf67",
   "metadata": {},
   "outputs": [
    {
     "name": "stdout",
     "output_type": "stream",
     "text": [
      "[24690     8]\n"
     ]
    }
   ],
   "source": [
    "print(arr_slice1)"
   ]
  },
  {
   "cell_type": "code",
   "execution_count": 60,
   "id": "4741ba1e",
   "metadata": {},
   "outputs": [
    {
     "name": "stdout",
     "output_type": "stream",
     "text": [
      "[64 64 64 64 64]\n",
      "[ 0  1 64 64 64 64 64  7  8  9]\n"
     ]
    }
   ],
   "source": [
    "arr_slice[:]= 64\n",
    "print(arr_slice)\n",
    "print(array1)"
   ]
  },
  {
   "cell_type": "code",
   "execution_count": 61,
   "id": "cd9e3989",
   "metadata": {},
   "outputs": [
    {
     "data": {
      "text/plain": [
       "array([64, 64, 64, 64, 64])"
      ]
     },
     "execution_count": 61,
     "metadata": {},
     "output_type": "execute_result"
    }
   ],
   "source": [
    "arr5 = array1[2:7].copy()\n",
    "arr5\n",
    "# arr5 is a copy. so any changes in arr5 will not \n",
    "# - result in original array"
   ]
  },
  {
   "cell_type": "code",
   "execution_count": 63,
   "id": "0f25d4a8",
   "metadata": {},
   "outputs": [
    {
     "name": "stdout",
     "output_type": "stream",
     "text": [
      "[[1 2 3]\n",
      " [4 5 6]\n",
      " [7 8 9]]\n",
      "[7 8 9]\n",
      "3\n"
     ]
    }
   ],
   "source": [
    "a2d = np.array([[1, 2, 3], [4, 5, 6], [7, 8, 9]])\n",
    "print(a2d)\n",
    "print(a2d[2])\n",
    "print(a2d[0][2])"
   ]
  },
  {
   "cell_type": "code",
   "execution_count": 3,
   "id": "7229c331",
   "metadata": {},
   "outputs": [],
   "source": [
    "a3d = np.array([[[1, 2, 3], [4, 5, 6]], [[7, 8, 9], [10, 11, 12]]])"
   ]
  },
  {
   "cell_type": "code",
   "execution_count": 70,
   "id": "99c49694",
   "metadata": {},
   "outputs": [
    {
     "name": "stdout",
     "output_type": "stream",
     "text": [
      "[[[ 1  2  3]\n",
      "  [ 4  5  6]]\n",
      "\n",
      " [[ 7  8  9]\n",
      "  [10 11 12]]]\n",
      "[[1 2 3]\n",
      " [4 5 6]]\n",
      "8\n"
     ]
    }
   ],
   "source": [
    "print(a3d)\n",
    "print(a3d[0])\n",
    "print(a3d[1][0][1])\n",
    "old_val = a3d[0].copy()"
   ]
  },
  {
   "cell_type": "code",
   "execution_count": 71,
   "id": "64373f67",
   "metadata": {},
   "outputs": [
    {
     "name": "stdout",
     "output_type": "stream",
     "text": [
      "[[[42 42 42]\n",
      "  [42 42 42]]\n",
      "\n",
      " [[ 7  8  9]\n",
      "  [10 11 12]]]\n"
     ]
    }
   ],
   "source": [
    "a3d[0]= 42\n",
    "print(a3d)"
   ]
  },
  {
   "cell_type": "code",
   "execution_count": 72,
   "id": "735ac72b",
   "metadata": {},
   "outputs": [],
   "source": [
    "a3d[0]=old_val"
   ]
  },
  {
   "cell_type": "code",
   "execution_count": 5,
   "id": "ff3073f5",
   "metadata": {},
   "outputs": [
    {
     "name": "stdout",
     "output_type": "stream",
     "text": [
      "[[[ 1  2  3]\n",
      "  [ 4  5  6]]\n",
      "\n",
      " [[ 7  8  9]\n",
      "  [10 11 12]]]\n",
      "[7 8 9]\n",
      "7\n",
      "[[[4 5 6]]]\n"
     ]
    },
    {
     "data": {
      "text/plain": [
       "array([[[1, 2, 3]],\n",
       "\n",
       "       [[7, 8, 9]]])"
      ]
     },
     "execution_count": 5,
     "metadata": {},
     "output_type": "execute_result"
    }
   ],
   "source": [
    "print(a3d)\n",
    "print(a3d[1,0])\n",
    "print(a3d[1,0,0])\n",
    "print(a3d[:1,1:])\n",
    "a3d[:,:1]"
   ]
  },
  {
   "cell_type": "code",
   "execution_count": 8,
   "id": "ec1edd90",
   "metadata": {},
   "outputs": [
    {
     "data": {
      "text/plain": [
       "array([['Abhi', 'Sai Anusha'],\n",
       "       ['Abhi', 'Sanghamitra'],\n",
       "       ['Abhi', 'Sri Devi']], dtype='<U11')"
      ]
     },
     "execution_count": 8,
     "metadata": {},
     "output_type": "execute_result"
    }
   ],
   "source": [
    "names = np.array([[\"Abhi\",\"Sai Anusha\",\"Sailu\"],[\"Abhi\",\"Sanghamitra\",\"Bindu\"],[\"Abhi\",\"Sri Devi\",\"Nenu\"]])\n",
    "sel_list = [True,True,False]\n",
    "names[:,sel_list] # Boolean Indexing"
   ]
  },
  {
   "cell_type": "code",
   "execution_count": 32,
   "id": "5e63ce55",
   "metadata": {},
   "outputs": [
    {
     "name": "stdout",
     "output_type": "stream",
     "text": [
      "[False  True  True False False  True]\n"
     ]
    },
    {
     "data": {
      "text/plain": [
       "array([ True, False, False,  True,  True, False])"
      ]
     },
     "execution_count": 32,
     "metadata": {},
     "output_type": "execute_result"
    }
   ],
   "source": [
    "# Additional array property\n",
    "names = np.array([\"ab\",\"cd\",\"ef\",\"ab\",\"ab\",\"yz\"])\n",
    "cond = names == 'ab'\n",
    "print(~cond)\n",
    "names == 'ab'"
   ]
  },
  {
   "cell_type": "code",
   "execution_count": 33,
   "id": "b672e894",
   "metadata": {},
   "outputs": [
    {
     "data": {
      "text/plain": [
       "array([ True, False,  True,  True,  True, False])"
      ]
     },
     "execution_count": 33,
     "metadata": {},
     "output_type": "execute_result"
    }
   ],
   "source": [
    "mask = (names == 'ab') | (names == 'ef')\n",
    "mask"
   ]
  },
  {
   "cell_type": "code",
   "execution_count": 34,
   "id": "03e6c0e3",
   "metadata": {},
   "outputs": [],
   "source": [
    "data = np.random.randn(7,4)"
   ]
  },
  {
   "cell_type": "code",
   "execution_count": 35,
   "id": "c2e60be6",
   "metadata": {},
   "outputs": [
    {
     "name": "stdout",
     "output_type": "stream",
     "text": [
      "[[ 1.80428371 -0.20735052 -0.20938797 -0.97510219]\n",
      " [-1.05273538 -0.3022306  -0.11044757  1.14834718]\n",
      " [-0.9906554   0.51214832 -1.2988914  -1.178843  ]\n",
      " [-0.17664561 -2.24478657  1.57455577 -0.75947146]\n",
      " [-0.00924377 -0.35104828  1.63818163  1.32615972]\n",
      " [-0.96113127  0.78613734  1.67776772 -0.75721608]\n",
      " [ 0.01895278 -0.06876592  1.75647937 -0.22527938]]\n",
      "[[1.80428371 0.         0.         0.        ]\n",
      " [0.         0.         0.         1.14834718]\n",
      " [0.         0.51214832 0.         0.        ]\n",
      " [0.         0.         1.57455577 0.        ]\n",
      " [0.         0.         1.63818163 1.32615972]\n",
      " [0.         0.78613734 1.67776772 0.        ]\n",
      " [0.01895278 0.         1.75647937 0.        ]]\n"
     ]
    }
   ],
   "source": [
    "print(data)\n",
    "data[data<0] = 0\n",
    "print(data)"
   ]
  },
  {
   "cell_type": "code",
   "execution_count": 36,
   "id": "e9a95856",
   "metadata": {},
   "outputs": [],
   "source": [
    "arr = np.add_newdoc??"
   ]
  },
  {
   "cell_type": "code",
   "execution_count": 37,
   "id": "49d6423a",
   "metadata": {},
   "outputs": [],
   "source": [
    "arr = np.empty((8,4))"
   ]
  },
  {
   "cell_type": "code",
   "execution_count": 38,
   "id": "aa6f796f",
   "metadata": {},
   "outputs": [],
   "source": [
    "for i in range(8):\n",
    "    arr[i] = i"
   ]
  },
  {
   "cell_type": "code",
   "execution_count": 40,
   "id": "77d1ae2e",
   "metadata": {},
   "outputs": [
    {
     "name": "stdout",
     "output_type": "stream",
     "text": [
      "[[0. 0. 0. 0.]\n",
      " [1. 1. 1. 1.]\n",
      " [2. 2. 2. 2.]\n",
      " [3. 3. 3. 3.]\n",
      " [4. 4. 4. 4.]\n",
      " [5. 5. 5. 5.]\n",
      " [6. 6. 6. 6.]\n",
      " [7. 7. 7. 7.]]\n",
      "[[4. 4. 4. 4.]\n",
      " [3. 3. 3. 3.]\n",
      " [0. 0. 0. 0.]\n",
      " [6. 6. 6. 6.]]\n",
      "[[5. 5. 5. 5.]\n",
      " [3. 3. 3. 3.]\n",
      " [1. 1. 1. 1.]]\n"
     ]
    }
   ],
   "source": [
    "print(arr)\n",
    "print(arr[[4,3,0,6]])\n",
    "print(arr[[-3,-5,-7]])"
   ]
  },
  {
   "cell_type": "code",
   "execution_count": 41,
   "id": "5533faff",
   "metadata": {},
   "outputs": [],
   "source": [
    "arr = np.arange(32).reshape((8,4))"
   ]
  },
  {
   "cell_type": "code",
   "execution_count": 46,
   "id": "df17f994",
   "metadata": {},
   "outputs": [
    {
     "name": "stdout",
     "output_type": "stream",
     "text": [
      "[[ 0  1  2  3]\n",
      " [ 4  5  6  7]\n",
      " [ 8  9 10 11]\n",
      " [12 13 14 15]\n",
      " [16 17 18 19]\n",
      " [20 21 22 23]\n",
      " [24 25 26 27]\n",
      " [28 29 30 31]]\n",
      "[ 4 23 29 10]\n"
     ]
    }
   ],
   "source": [
    "print(arr)\n",
    "print(arr[[1,5,7,2],[0,3,1,2]])"
   ]
  },
  {
   "cell_type": "code",
   "execution_count": 52,
   "id": "e89612f4",
   "metadata": {},
   "outputs": [
    {
     "name": "stdout",
     "output_type": "stream",
     "text": [
      "[[ 4  7  5  6]\n",
      " [20 23 21 22]\n",
      " [28 31 29 30]\n",
      " [ 8 11  9 10]]\n",
      "[[20 23 21 22]\n",
      " [28 31 29 30]\n",
      " [ 8 11  9 10]]\n"
     ]
    }
   ],
   "source": [
    "print(arr[[1, 5, 7, 2]][:, [0, 3, 1, 2]])\n",
    "print(arr[[1, 5, 7, 2]][1:, [0, 3, 1, 2]])"
   ]
  },
  {
   "cell_type": "code",
   "execution_count": 64,
   "id": "d7747f38",
   "metadata": {},
   "outputs": [
    {
     "name": "stdout",
     "output_type": "stream",
     "text": [
      "[[ 0  1  2  3]\n",
      " [ 4  5  6  7]\n",
      " [ 8  9 10 11]\n",
      " [12 13 14 15]]\n",
      "[ 0  1  2  3  4  5  6  7  8  9 10 11 12 13 14 15]\n",
      "[[[ 0  1  2  3]\n",
      "  [ 4  5  6  7]]\n",
      "\n",
      " [[ 8  9 10 11]\n",
      "  [12 13 14 15]]]\n"
     ]
    }
   ],
   "source": [
    "arr = np.arange(16).reshape((4,4))\n",
    "print(arr)\n",
    "# Reshaping of an Array\n",
    "# array2 = array1.reshape('new_shape')\n",
    "arr1 = arr.reshape(16)\n",
    "print(arr1)\n",
    "arr1 = arr1.reshape((2,2,4))\n",
    "print(arr1)"
   ]
  },
  {
   "cell_type": "code",
   "execution_count": 67,
   "id": "17280386",
   "metadata": {},
   "outputs": [
    {
     "name": "stdout",
     "output_type": "stream",
     "text": [
      "[[ 0  4  8 12]\n",
      " [ 1  5  9 13]\n",
      " [ 2  6 10 14]\n",
      " [ 3  7 11 15]]\n",
      "[[ 14  38  62  86]\n",
      " [ 38 126 214 302]\n",
      " [ 62 214 366 518]\n",
      " [ 86 302 518 734]]\n",
      "[[[ 0  1  2  3]\n",
      "  [ 4  5  6  7]]\n",
      "\n",
      " [[ 8  9 10 11]\n",
      "  [12 13 14 15]]]\n",
      "[[[ 0  1  2  3]\n",
      "  [ 8  9 10 11]]\n",
      "\n",
      " [[ 4  5  6  7]\n",
      "  [12 13 14 15]]]\n"
     ]
    }
   ],
   "source": [
    "# Transposing Linear and Quadratic Arrays\n",
    "# array.T\n",
    "print(arr.T)\n",
    "# Matrix Product or Multiplication\n",
    "# np.dot(array1,array2) or array1.dot(array2)\n",
    "print(np.dot(arr,arr.T))\n",
    "print(arr1)\n",
    "# For Transposing Higher Dimensional Arrays\n",
    "print(arr1.transpose((1,0,2)))"
   ]
  },
  {
   "cell_type": "code",
   "execution_count": 8,
   "id": "aa10156e",
   "metadata": {},
   "outputs": [
    {
     "name": "stdout",
     "output_type": "stream",
     "text": [
      "[[[ 0  1  2  3]\n",
      "  [ 8  9 10 11]]\n",
      "\n",
      " [[ 4  5  6  7]\n",
      "  [12 13 14 15]]]\n"
     ]
    },
    {
     "data": {
      "text/plain": [
       "array([[[ 0,  4],\n",
       "        [ 1,  5],\n",
       "        [ 2,  6],\n",
       "        [ 3,  7]],\n",
       "\n",
       "       [[ 8, 12],\n",
       "        [ 9, 13],\n",
       "        [10, 14],\n",
       "        [11, 15]]])"
      ]
     },
     "execution_count": 8,
     "metadata": {},
     "output_type": "execute_result"
    }
   ],
   "source": [
    "import numpy as np\n",
    "arr = np.arange(16).reshape((2, 2, 4))\n",
    "print(arr.transpose((1, 0, 2)))\n",
    "arr.swapaxes(1,2) # swapaxes similarly returns a view on the data without making a copy."
   ]
  },
  {
   "cell_type": "code",
   "execution_count": 3,
   "id": "807143f0",
   "metadata": {},
   "outputs": [
    {
     "name": "stdout",
     "output_type": "stream",
     "text": [
      "[[1 2 3]\n",
      " [4 5 6]]\n",
      "[[ 2  4  6]\n",
      " [ 8 10 12]]\n",
      "[[14 32]\n",
      " [32 77]]\n"
     ]
    }
   ],
   "source": [
    "arr = np.matrix([[1,2,3],[4,5,6]])\n",
    "print(arr)\n",
    "print(arr+arr) # for np.matrices, * is used for matrix multiplication\n",
    "print(arr*arr.T)"
   ]
  },
  {
   "cell_type": "code",
   "execution_count": null,
   "id": "5fd5488c",
   "metadata": {},
   "outputs": [],
   "source": []
  }
 ],
 "metadata": {
  "kernelspec": {
   "display_name": "Python 3 (ipykernel)",
   "language": "python",
   "name": "python3"
  },
  "language_info": {
   "codemirror_mode": {
    "name": "ipython",
    "version": 3
   },
   "file_extension": ".py",
   "mimetype": "text/x-python",
   "name": "python",
   "nbconvert_exporter": "python",
   "pygments_lexer": "ipython3",
   "version": "3.9.12"
  }
 },
 "nbformat": 4,
 "nbformat_minor": 5
}
