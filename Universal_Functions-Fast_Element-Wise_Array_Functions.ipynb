{
 "cells": [
  {
   "cell_type": "code",
   "execution_count": 1,
   "id": "6592f68b",
   "metadata": {},
   "outputs": [],
   "source": [
    "import numpy as np"
   ]
  },
  {
   "cell_type": "code",
   "execution_count": 3,
   "id": "df372b49",
   "metadata": {},
   "outputs": [
    {
     "name": "stdout",
     "output_type": "stream",
     "text": [
      "[0.         1.         1.41421356 1.73205081 2.         2.23606798\n",
      " 2.44948974 2.64575131 2.82842712 3.        ]\n",
      "[1.00000000e+00 2.71828183e+00 7.38905610e+00 2.00855369e+01\n",
      " 5.45981500e+01 1.48413159e+02 4.03428793e+02 1.09663316e+03\n",
      " 2.98095799e+03 8.10308393e+03]\n"
     ]
    }
   ],
   "source": [
    "arr= np.arange(10)\n",
    "arr1 = np.sqrt(arr)\n",
    "arr2 = np.exp(arr)\n",
    "print(arr1)\n",
    "print(arr2)"
   ]
  },
  {
   "cell_type": "code",
   "execution_count": 11,
   "id": "7136ecf1",
   "metadata": {},
   "outputs": [],
   "source": [
    "arr = np.random.randn(7)*5\n",
    "arr1 = np.random.randn(7)*5"
   ]
  },
  {
   "cell_type": "code",
   "execution_count": 6,
   "id": "f7eb60eb",
   "metadata": {},
   "outputs": [],
   "source": [
    "# np.modf(array_name) returns 2 arrays\n",
    "# - with first one fractional part and the other integral part\n",
    "frac_part,int_part=np.modf(arr)\n",
    "# np.maximum(array1,array2) returns an array with maximum of\n",
    "# each of the 2 corresponding places in the Arrays"
   ]
  },
  {
   "cell_type": "code",
   "execution_count": 9,
   "id": "ccfda58d",
   "metadata": {},
   "outputs": [
    {
     "name": "stdout",
     "output_type": "stream",
     "text": [
      "[ 1.90272841 -2.18078686 -1.01686188  5.17703501 -1.48466481  6.74683701\n",
      "  3.63670571]\n",
      "[ 0.90272841 -0.18078686 -0.01686188  0.17703501 -0.48466481  0.74683701\n",
      "  0.63670571]\n",
      "[ 1. -2. -1.  5. -1.  6.  3.]\n"
     ]
    }
   ],
   "source": [
    "print(arr)\n",
    "print(frac_part)\n",
    "print(int_part)"
   ]
  },
  {
   "cell_type": "code",
   "execution_count": 12,
   "id": "5828e6b5",
   "metadata": {},
   "outputs": [
    {
     "name": "stdout",
     "output_type": "stream",
     "text": [
      "[-5.25841273  8.25502062  8.73287279  3.18849587 16.43689999 -6.2363583\n",
      "  6.52130245]\n",
      "[  6.62421406   2.56519345  -5.17864694  -6.62128335 -11.82530456\n",
      "   9.57020892   3.74204308]\n",
      "[ -4.05732687  15.39128702  12.36117075  -8.41872181  32.58346333\n",
      " -13.17418345   7.13112483]\n",
      "[-0.11494103  1.90167711  0.25548796 -0.34993524  0.16317182 -0.21091554\n",
      "  3.69283472]\n",
      "[9.64125992e+00 1.21872945e+02 5.45704770e+01            nan\n",
      " 1.33987273e+05 1.76251901e-02 9.70503107e+00]\n"
     ]
    },
    {
     "name": "stderr",
     "output_type": "stream",
     "text": [
      "/tmp/ipykernel_4874/284245084.py:14: RuntimeWarning: invalid value encountered in power\n",
      "  print(np.power(arr,arr1))\n"
     ]
    }
   ],
   "source": [
    "# Binary Universal Functions\n",
    "# array3 = np.add(array1,array2)\n",
    "print(np.add(arr,arr1))\n",
    "# array3 = np.subtract(array1,array2)\n",
    "print(np.subtract(arr,arr1))\n",
    "# array3 = np.multiply(array1,array2)\n",
    "print(np.multiply(arr,arr1))\n",
    "# array3 = np.divide(array1,array2)\n",
    "# - or np.floor_divide(array1,array2).\n",
    "# - It'll Truncate the Remainder\n",
    "print(np.divide(arr,arr1))\n",
    "# array3 =np.power(array1,array2). Raise array1 elements\n",
    "# to the power of array2\n",
    "print(np.power(arr,arr1))\n"
   ]
  },
  {
   "cell_type": "code",
   "execution_count": 11,
   "id": "584d7a04",
   "metadata": {},
   "outputs": [
    {
     "name": "stdout",
     "output_type": "stream",
     "text": [
      "[ True  True  True  True  True  True  True  True  True  True]\n"
     ]
    },
    {
     "data": {
      "text/plain": [
       "array([ True,  True,  True,  True,  True,  True,  True,  True,  True,\n",
       "        True])"
      ]
     },
     "execution_count": 11,
     "metadata": {},
     "output_type": "execute_result"
    }
   ],
   "source": [
    "print(np.greater(arr2,arr1))\n",
    "np.logical_or(arr1,arr2)"
   ]
  },
  {
   "cell_type": "code",
   "execution_count": 2,
   "id": "9d6b54d7",
   "metadata": {},
   "outputs": [],
   "source": [
    "arr = np.random.randn(100)"
   ]
  },
  {
   "cell_type": "code",
   "execution_count": 3,
   "id": "fa09a0cd",
   "metadata": {},
   "outputs": [
    {
     "data": {
      "text/plain": [
       "48"
      ]
     },
     "execution_count": 3,
     "metadata": {},
     "output_type": "execute_result"
    }
   ],
   "source": [
    "(arr > 0).sum()"
   ]
  },
  {
   "cell_type": "code",
   "execution_count": 5,
   "id": "68c5816d",
   "metadata": {},
   "outputs": [
    {
     "name": "stdout",
     "output_type": "stream",
     "text": [
      "False\n",
      "True\n"
     ]
    }
   ],
   "source": [
    "bools = np.array([True,False,True,False])\n",
    "print(bools.all())\n",
    "print(bools.any())"
   ]
  },
  {
   "cell_type": "code",
   "execution_count": 8,
   "id": "3b1c4e79",
   "metadata": {},
   "outputs": [],
   "source": [
    "# Sorting\n",
    "arr = np.random.randn(6)\n",
    "arr1 = np.random.rand(5,3)"
   ]
  },
  {
   "cell_type": "code",
   "execution_count": 7,
   "id": "6cfc3d2d",
   "metadata": {},
   "outputs": [
    {
     "name": "stdout",
     "output_type": "stream",
     "text": [
      "[-0.1386652  -1.61224649 -1.45674391  0.24067747  0.01186217 -0.36436063]\n",
      "[-1.61224649 -1.45674391 -0.36436063 -0.1386652   0.01186217  0.24067747]\n"
     ]
    }
   ],
   "source": [
    "print(arr)\n",
    "arr.sort()\n",
    "print(arr)"
   ]
  },
  {
   "cell_type": "code",
   "execution_count": 9,
   "id": "3847893c",
   "metadata": {},
   "outputs": [
    {
     "name": "stdout",
     "output_type": "stream",
     "text": [
      "[[0.79569586 0.96425328 0.29610136]\n",
      " [0.16079988 0.07194902 0.22450317]\n",
      " [0.57580802 0.68451303 0.22015165]\n",
      " [0.57889212 0.05695583 0.29410313]\n",
      " [0.22450327 0.97102544 0.21931478]]\n",
      "[[0.29610136 0.79569586 0.96425328]\n",
      " [0.07194902 0.16079988 0.22450317]\n",
      " [0.22015165 0.57580802 0.68451303]\n",
      " [0.05695583 0.29410313 0.57889212]\n",
      " [0.21931478 0.22450327 0.97102544]]\n"
     ]
    }
   ],
   "source": [
    "arr2 = arr1\n",
    "print(arr1)\n",
    "arr1.sort(1)\n",
    "print(arr1)"
   ]
  },
  {
   "cell_type": "code",
   "execution_count": 11,
   "id": "b9ddda3a",
   "metadata": {},
   "outputs": [
    {
     "name": "stdout",
     "output_type": "stream",
     "text": [
      "[[0.05695583 0.16079988 0.22450317]\n",
      " [0.07194902 0.22450327 0.57889212]\n",
      " [0.21931478 0.29410313 0.68451303]\n",
      " [0.22015165 0.57580802 0.96425328]\n",
      " [0.29610136 0.79569586 0.97102544]]\n",
      "[[0.05695583 0.16079988 0.22450317]\n",
      " [0.07194902 0.22450327 0.57889212]\n",
      " [0.21931478 0.29410313 0.68451303]\n",
      " [0.22015165 0.57580802 0.96425328]\n",
      " [0.29610136 0.79569586 0.97102544]]\n"
     ]
    }
   ],
   "source": [
    "arr3 = arr2\n",
    "arr2.sort(0)# If array2 = array1 then sorting array1 \n",
    "print(arr3) # will also sort array2\n",
    "print(arr2)"
   ]
  },
  {
   "cell_type": "code",
   "execution_count": 12,
   "id": "0aeb0966",
   "metadata": {},
   "outputs": [
    {
     "name": "stdout",
     "output_type": "stream",
     "text": [
      "[[0.05695583 0.16079988 0.22450317]\n",
      " [0.07194902 0.22450327 0.57889212]\n",
      " [0.21931478 0.29410313 0.68451303]\n",
      " [0.22015165 0.57580802 0.96425328]\n",
      " [0.29610136 0.79569586 0.97102544]]\n",
      "[[0.05695583 0.16079988 0.22450317]\n",
      " [0.07194902 0.22450327 0.57889212]\n",
      " [0.21931478 0.29410313 0.68451303]\n",
      " [0.22015165 0.57580802 0.96425328]\n",
      " [0.29610136 0.79569586 0.97102544]]\n"
     ]
    }
   ],
   "source": [
    "print(arr3)\n",
    "arr3.sort()\n",
    "print(arr3)"
   ]
  },
  {
   "cell_type": "code",
   "execution_count": 15,
   "id": "d55ec85d",
   "metadata": {},
   "outputs": [
    {
     "name": "stdout",
     "output_type": "stream",
     "text": [
      "[1 4 5 5 7]\n",
      "[1 7 5 4 5]\n"
     ]
    }
   ],
   "source": [
    "# np.sort(array) only returns a copy of array\n",
    "# but never actually sorts the array\n",
    "x1 = np.array([1,7,5,4,5])\n",
    "print(np.sort(x1))\n",
    "print(x1)"
   ]
  },
  {
   "cell_type": "code",
   "execution_count": 17,
   "id": "97430e08",
   "metadata": {},
   "outputs": [
    {
     "name": "stdout",
     "output_type": "stream",
     "text": [
      "['Abhi' 'Devi' 'Raju' 'Sri']\n",
      "['Abhi', 'Devi', 'Raju', 'Sri']\n"
     ]
    }
   ],
   "source": [
    "# Unique and Set Logic\n",
    "names = np.array(['Abhi','Sri','Devi','Abhi','Devi','Devi','Raju'])\n",
    "print(np.unique(names))\n",
    "print(sorted(set(names)))"
   ]
  },
  {
   "cell_type": "code",
   "execution_count": 18,
   "id": "a5d7b34e",
   "metadata": {},
   "outputs": [
    {
     "data": {
      "text/plain": [
       "array([ True, False,  True,  True,  True,  True,  True])"
      ]
     },
     "execution_count": 18,
     "metadata": {},
     "output_type": "execute_result"
    }
   ],
   "source": [
    "# np.in1d(array1,array2) returns a boolean array\n",
    "# that tells that elements in array1 is present -\n",
    "# in array2 or not\n",
    "np.in1d(names,['Abhi','Devi','Raju'])\n",
    "# Note : This is only for 1d arrays"
   ]
  },
  {
   "cell_type": "code",
   "execution_count": null,
   "id": "10f0f841",
   "metadata": {},
   "outputs": [],
   "source": []
  }
 ],
 "metadata": {
  "kernelspec": {
   "display_name": "Python 3 (ipykernel)",
   "language": "python",
   "name": "python3"
  },
  "language_info": {
   "codemirror_mode": {
    "name": "ipython",
    "version": 3
   },
   "file_extension": ".py",
   "mimetype": "text/x-python",
   "name": "python",
   "nbconvert_exporter": "python",
   "pygments_lexer": "ipython3",
   "version": "3.9.12"
  }
 },
 "nbformat": 4,
 "nbformat_minor": 5
}
